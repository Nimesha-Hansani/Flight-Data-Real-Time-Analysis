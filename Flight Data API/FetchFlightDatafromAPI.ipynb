{
 "cells": [
  {
   "cell_type": "code",
   "execution_count": 3,
   "id": "952c6a3c",
   "metadata": {},
   "outputs": [],
   "source": [
    "import requests\n",
    "\n",
    "import boto3\n",
    "import requests\n",
    "import json\n",
    "import time\n",
    "import pandas as pd"
   ]
  },
  {
   "cell_type": "code",
   "execution_count": null,
   "id": "66ee25fb",
   "metadata": {},
   "outputs": [
    {
     "name": "stdout",
     "output_type": "stream",
     "text": [
      "{\"flight_date\": \"2025-08-15\", \"flight_status\": \"scheduled\", \"departure\": {\"airport\": \"Woodbourne Air Station\", \"timezone\": \"Pacific/Auckland\", \"iata\": \"BHE\", \"icao\": \"NZWB\", \"terminal\": null, \"gate\": null, \"delay\": null, \"scheduled\": \"2025-08-15T06:30:00+00:00\", \"estimated\": \"2025-08-15T06:30:00+00:00\", \"actual\": null, \"estimated_runway\": null, \"actual_runway\": null}, \"arrival\": {\"airport\": \"Christchurch International\", \"timezone\": \"Pacific/Auckland\", \"iata\": \"CHC\", \"icao\": \"NZCH\", \"terminal\": null, \"gate\": null, \"baggage\": null, \"scheduled\": \"2025-08-15T07:20:00+00:00\", \"delay\": null, \"estimated\": null, \"actual\": null, \"estimated_runway\": null, \"actual_runway\": null}, \"airline\": {\"name\": \"empty\", \"iata\": null, \"icao\": null}, \"flight\": {\"number\": \"699\", \"iata\": null, \"icao\": null, \"codeshared\": null}, \"aircraft\": null, \"live\": null}\n",
      "{\"flight_date\": \"2025-08-15\", \"flight_status\": \"scheduled\", \"departure\": {\"airport\": \"Woodbourne Air Station\", \"timezone\": \"Pacific/Auckland\", \"iata\": \"BHE\", \"icao\": \"NZWB\", \"terminal\": null, \"gate\": null, \"delay\": null, \"scheduled\": \"2025-08-15T06:00:00+00:00\", \"estimated\": \"2025-08-15T06:00:00+00:00\", \"actual\": null, \"estimated_runway\": null, \"actual_runway\": null}, \"arrival\": {\"airport\": \"Wellington International\", \"timezone\": \"Pacific/Auckland\", \"iata\": \"WLG\", \"icao\": \"NZWN\", \"terminal\": null, \"gate\": null, \"baggage\": null, \"scheduled\": \"2025-08-15T06:30:00+00:00\", \"delay\": null, \"estimated\": null, \"actual\": null, \"estimated_runway\": null, \"actual_runway\": null}, \"airline\": {\"name\": \"empty\", \"iata\": null, \"icao\": null}, \"flight\": {\"number\": \"298\", \"iata\": null, \"icao\": null, \"codeshared\": null}, \"aircraft\": null, \"live\": null}\n",
      "{\"flight_date\": \"2025-08-15\", \"flight_status\": \"scheduled\", \"departure\": {\"airport\": \"Woodbourne Air Station\", \"timezone\": \"Pacific/Auckland\", \"iata\": \"BHE\", \"icao\": \"NZWB\", \"terminal\": null, \"gate\": null, \"delay\": null, \"scheduled\": \"2025-08-15T06:00:00+00:00\", \"estimated\": \"2025-08-15T06:00:00+00:00\", \"actual\": null, \"estimated_runway\": null, \"actual_runway\": null}, \"arrival\": {\"airport\": \"Auckland International\", \"timezone\": \"Pacific/Auckland\", \"iata\": \"AKL\", \"icao\": \"NZAA\", \"terminal\": \"D\", \"gate\": \"46\", \"baggage\": \"DT3\", \"scheduled\": \"2025-08-15T07:30:00+00:00\", \"delay\": null, \"estimated\": null, \"actual\": null, \"estimated_runway\": null, \"actual_runway\": null}, \"airline\": {\"name\": \"Air New Zealand\", \"iata\": \"NZ\", \"icao\": \"ANZ\"}, \"flight\": {\"number\": \"5208\", \"iata\": \"NZ5208\", \"icao\": \"ANZ5208\", \"codeshared\": null}, \"aircraft\": null, \"live\": null}\n",
      "{\"flight_date\": \"2025-08-15\", \"flight_status\": \"scheduled\", \"departure\": {\"airport\": \"Woodbourne Air Station\", \"timezone\": \"Pacific/Auckland\", \"iata\": \"BHE\", \"icao\": \"NZWB\", \"terminal\": null, \"gate\": null, \"delay\": null, \"scheduled\": \"2025-08-15T06:00:00+00:00\", \"estimated\": \"2025-08-15T06:00:00+00:00\", \"actual\": null, \"estimated_runway\": null, \"actual_runway\": null}, \"arrival\": {\"airport\": \"Auckland International\", \"timezone\": \"Pacific/Auckland\", \"iata\": \"AKL\", \"icao\": \"NZAA\", \"terminal\": \"D\", \"gate\": \"46\", \"baggage\": \"DT3\", \"scheduled\": \"2025-08-15T07:30:00+00:00\", \"delay\": null, \"estimated\": null, \"actual\": null, \"estimated_runway\": null, \"actual_runway\": null}, \"airline\": {\"name\": \"Singapore Airlines\", \"iata\": \"SQ\", \"icao\": \"SIA\"}, \"flight\": {\"number\": \"4370\", \"iata\": \"SQ4370\", \"icao\": \"SIA4370\", \"codeshared\": {\"airline_name\": \"air new zealand\", \"airline_iata\": \"nz\", \"airline_icao\": \"anz\", \"flight_number\": \"5208\", \"flight_iata\": \"nz5208\", \"flight_icao\": \"anz5208\"}}, \"aircraft\": null, \"live\": null}\n",
      "{\"flight_date\": \"2025-08-15\", \"flight_status\": \"scheduled\", \"departure\": {\"airport\": \"Woodbourne Air Station\", \"timezone\": \"Pacific/Auckland\", \"iata\": \"BHE\", \"icao\": \"NZWB\", \"terminal\": null, \"gate\": null, \"delay\": null, \"scheduled\": \"2025-08-15T06:00:00+00:00\", \"estimated\": \"2025-08-15T06:00:00+00:00\", \"actual\": null, \"estimated_runway\": null, \"actual_runway\": null}, \"arrival\": {\"airport\": \"Auckland International\", \"timezone\": \"Pacific/Auckland\", \"iata\": \"AKL\", \"icao\": \"NZAA\", \"terminal\": \"D\", \"gate\": \"46\", \"baggage\": \"DT3\", \"scheduled\": \"2025-08-15T07:30:00+00:00\", \"delay\": null, \"estimated\": null, \"actual\": null, \"estimated_runway\": null, \"actual_runway\": null}, \"airline\": {\"name\": \"Qantas\", \"iata\": \"QF\", \"icao\": \"QFA\"}, \"flight\": {\"number\": \"8508\", \"iata\": \"QF8508\", \"icao\": \"QFA8508\", \"codeshared\": {\"airline_name\": \"air new zealand\", \"airline_iata\": \"nz\", \"airline_icao\": \"anz\", \"flight_number\": \"5208\", \"flight_iata\": \"nz5208\", \"flight_icao\": \"anz5208\"}}, \"aircraft\": null, \"live\": null}\n"
     ]
    }
   ],
   "source": [
    "\n",
    "kinesis_client = boto3.client('kinesis', region_name='us-east-1')\n",
    "\n",
    "def send_to_kinesis(data):\n",
    "    # Send data to Kinesis stream\n",
    "    \n",
    "    # Use the flight_date as the partition key\n",
    "    partition_key = data.get('flight_date', 'unknown-date')\n",
    "    data_record = json.dumps(data)\n",
    "\n",
    "    kinesis_client.put_record(StreamName='Flight-API-Data-Stream', Data=data_record, PartitionKey= partition_key)\n",
    "\n",
    "\n",
    "def invoke_api():\n",
    "\n",
    "\n",
    "    api_endpoint = 'https://api.aviationstack.com/v1/flights'\n",
    "    params = {\n",
    "            'access_key': 'b9a99cfbc2971adba7d9b72b3264a66d',\n",
    "            'limit': 5\n",
    "    }\n",
    "\n",
    "    response = requests.get('https://api.aviationstack.com/v1/flights', params = params)\n",
    "\n",
    "    json_response = response.json()\n",
    "\n",
    "    for flight in json_response['data']:\n",
    "        # print(flight)\n",
    "        send_to_kinesis(flight)\n",
    "\n",
    "\n",
    "invoke_api()"
   ]
  }
 ],
 "metadata": {
  "kernelspec": {
   "display_name": "Python 3",
   "language": "python",
   "name": "python3"
  },
  "language_info": {
   "codemirror_mode": {
    "name": "ipython",
    "version": 3
   },
   "file_extension": ".py",
   "mimetype": "text/x-python",
   "name": "python",
   "nbconvert_exporter": "python",
   "pygments_lexer": "ipython3",
   "version": "3.13.3"
  }
 },
 "nbformat": 4,
 "nbformat_minor": 5
}
